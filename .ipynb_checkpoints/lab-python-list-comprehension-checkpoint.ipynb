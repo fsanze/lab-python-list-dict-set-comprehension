{
 "cells": [
  {
   "cell_type": "markdown",
   "id": "25d7736c-ba17-4aff-b6bb-66eba20fbf4e",
   "metadata": {},
   "source": [
    "# Lab | List, Dict and Set Comprehension"
   ]
  },
  {
   "cell_type": "markdown",
   "id": "7dd3cbde-675a-4b81-92c3-f728846dbe06",
   "metadata": {},
   "source": [
    "## Exercise: Managing Customer Orders Optimized with Comprehension"
   ]
  },
  {
   "cell_type": "markdown",
   "id": "5d500160-2fb7-4777-b5e4-09d45ebaf328",
   "metadata": {},
   "source": [
    "In the previous exercise, you developed a program to manage customer orders and inventory. Now, let's take it a step further and incorporate comprehension into your code.\n",
    "\n",
    "Follow the steps below to complete the exercise:\n",
    "\n",
    "1. Review your code from the previous exercise and identify areas where you can apply comprehension to simplify and streamline your code. \n",
    "\n",
    "    - *Hint: Apply it to initialize inventory, updating the inventory and printing the updated inventory.*\n",
    "    \n",
    "    - For example, in initializing the inventory, we could have:\n",
    "    \n",
    "        ```python\n",
    "        def initialize_inventory(products):\n",
    "            inventory = {product: int(input(f\"Enter the quantity of {product}s available: \")) for product in products}\n",
    "            return inventory\n",
    "\n",
    "        ```\n",
    "<br>\n",
    "    \n",
    "    \n",
    "2. Modify the function get_customer_orders so it prompts the user to enter the number of customer orders and gathers the product names using a loop and user input. Use comprehension.\n",
    "\n",
    "3. Add a new function to calculate the total price of the customer order. For each product in customer_orders, prompt the user to enter the price of that product. Use comprehension to calculate the total price. Note: assume that the user can only have 1 unit of each product.\n",
    "\n",
    "4. Modify the update_inventory function to remove the product from the inventory if its quantity becomes zero after fulfilling the customer orders. Use comprehension to filter out the products with a quantity of zero from the inventory.\n",
    "\n",
    "5. Print the total price of the customer order.\n",
    "\n",
    "Your code should produce output similar to the following:\n",
    "\n",
    "```python\n",
    "Enter the quantity of t-shirts available:  5\n",
    "Enter the quantity of mugs available:  4\n",
    "Enter the quantity of hats available:  3\n",
    "Enter the quantity of books available:  2\n",
    "Enter the quantity of keychains available:  1\n",
    "Enter the number of customer orders:  2\n",
    "Enter the name of a product that a customer wants to order:  hat\n",
    "Enter the name of a product that a customer wants to order:  keychain\n",
    "\n",
    "Order Statistics:\n",
    "Total Products Ordered: 2\n",
    "Percentage of Unique Products Ordered: 40.0\n",
    "\n",
    "Updated Inventory:\n",
    "t-shirt: 5\n",
    "mug: 4\n",
    "hat: 2\n",
    "book: 2\n",
    "Enter the price of keychain:  5\n",
    "Enter the price of hat:  10\n",
    "Total Price: 15.0\n",
    "\n",
    "```\n"
   ]
  },
  {
   "cell_type": "code",
   "execution_count": 35,
   "id": "6a44ea6c-550b-415a-aaee-0cedfef94b81",
   "metadata": {},
   "outputs": [
    {
     "name": "stdin",
     "output_type": "stream",
     "text": [
      "Please enter the quantity of t-shirt: 5\n",
      "Please enter the quantity of mug: 1\n",
      "Please enter the quantity of hat: 5\n",
      "Please enter the quantity of book: 5\n",
      "Please enter the quantity of keychain: 5\n",
      "How many items do you want to buy:  2\n",
      "Please enter your order:  mug\n",
      "Please enter your order:  hat\n"
     ]
    },
    {
     "name": "stdout",
     "output_type": "stream",
     "text": [
      "Order Statistics:\n",
      "Total Products Ordered: 2\n",
      "Percentage of Products Ordered: 9.523809523809524%\n",
      "t-shirt: 5\n",
      "hat: 4\n",
      "book: 5\n",
      "keychain: 5\n",
      "total: 19\n"
     ]
    },
    {
     "name": "stdin",
     "output_type": "stream",
     "text": [
      "Please enter the price for hat 10\n",
      "Please enter the price for mug 15\n"
     ]
    },
    {
     "name": "stdout",
     "output_type": "stream",
     "text": [
      "Total Price: 25.0\n"
     ]
    }
   ],
   "source": [
    "def initialize_inventory(products):\n",
    "    \"\"\"\n",
    "    This function takes as input a list of products and creates an inventory dictionary, using the products in the list as key, and for the value \n",
    "    it ask the user for the quantity of each product.\n",
    "    It also creates a counter to sum all the products\n",
    "\n",
    "    This function returns two values, first the inventory dictionary and second the total product counter\n",
    "    \"\"\"\n",
    "\n",
    "    inventory = {product : int(input(f\"Please enter the quantity of {product}:\")) for product in products}\n",
    "    inventory[\"total\"] = sum(list(inventory.values()))\n",
    "    \n",
    "    return inventory\n",
    "\n",
    "def get_customer_orders(products):\n",
    "\n",
    "    \n",
    "    number_of_products = int(input(\"How many items do you want to buy: \"))\n",
    "    customer_orders = {input(\"Please enter your order: \").lower() for product in range(number_of_products)}\n",
    "    \"\"\"\n",
    "    while True:\n",
    "        item = input(\"Please enter your order: \").lower()\n",
    "        if item not in products:\n",
    "            print(\"Item not recognized\")\n",
    "        else:\n",
    "            customer_orders.add(item)\n",
    "        another_product = None\n",
    "        while another_product not in [\"yes\", \"no\"]:\n",
    "            another_product = input(\"Do you want to add another product? (yes/no): \").lower()\n",
    "        if another_product == \"no\":\n",
    "            break\n",
    "    \"\"\"\n",
    "    return customer_orders\n",
    "\n",
    "def update_inventory(customer_orders, inventory):\n",
    "\n",
    "    inventory = {item : inventory[item]-1 if item in customer_orders else inventory[item] for item in inventory}\n",
    "    inventory = {item : stock for item, stock in inventory.items() if stock > 1}\n",
    "    inventory[\"total\"] -= len(customer_orders)\n",
    "    return inventory\n",
    "\n",
    "def calculate_order_statistics(customer_orders, inventory):\n",
    "\n",
    "    #products_ordered = len(customer_orders)\n",
    "    #percentage = (products_ordered / total_products) * 100\n",
    "    return (len(customer_orders), (len(customer_orders)/inventory[\"total\"])*100)\n",
    "\n",
    "def print_order_statistics(order_statistics):\n",
    "\n",
    "    print(f\"Order Statistics:\\nTotal Products Ordered: {order_statistics[0]}\\nPercentage of Products Ordered: {order_statistics[1]}%\")\n",
    "\n",
    "def print_updated_inventory(inventory):\n",
    "\n",
    "    for [key, value] in inventory.items():\n",
    "        print(f\"{key}: {value}\")\n",
    "\n",
    "def calculate_total_price(customer_orders):\n",
    "    \n",
    "    price = sum([float(input(f\"Please enter the price for {product}\")) for product in customer_orders])\n",
    "    return price\n",
    "\n",
    "products = [\"t-shirt\", \"mug\", \"hat\", \"book\", \"keychain\"]\n",
    "\n",
    "inventory = initialize_inventory(products)\n",
    "\n",
    "customer_orders = get_customer_orders(products)\n",
    "\n",
    "order_status = calculate_order_statistics(customer_orders, inventory)\n",
    "\n",
    "print_order_statistics(order_status)\n",
    "\n",
    "inventory = update_inventory(customer_orders, inventory)\n",
    "\n",
    "print_updated_inventory(inventory)\n",
    "\n",
    "total_price = calculate_total_price(customer_orders)\n",
    "\n",
    "print(f\"Total Price: {total_price}\")"
   ]
  },
  {
   "cell_type": "code",
   "execution_count": null,
   "id": "a4c08086-c475-42a6-9c5b-805ed84331c9",
   "metadata": {},
   "outputs": [],
   "source": []
  }
 ],
 "metadata": {
  "kernelspec": {
   "display_name": "Python 3 (ipykernel)",
   "language": "python",
   "name": "python3"
  },
  "language_info": {
   "codemirror_mode": {
    "name": "ipython",
    "version": 3
   },
   "file_extension": ".py",
   "mimetype": "text/x-python",
   "name": "python",
   "nbconvert_exporter": "python",
   "pygments_lexer": "ipython3",
   "version": "3.12.4"
  }
 },
 "nbformat": 4,
 "nbformat_minor": 5
}
